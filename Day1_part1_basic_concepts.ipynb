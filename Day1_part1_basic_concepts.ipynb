{
 "cells": [
  {
   "cell_type": "markdown",
   "metadata": {},
   "source": [
    "# Day 1\n",
    "\n",
    "Welcome to the first day of the Python Data Science Bootcamp.\n",
    "\n",
    "Please, follow the provided notebooks.  \n",
    "We prepared bunch of examples as well as some exercises for you to complete.  \n",
    "If you have any questions, don't hesitate to ask us."
   ]
  },
  {
   "cell_type": "markdown",
   "metadata": {},
   "source": [
    "## Part 1\n",
    "\n",
    "We will review here some basic data structures and we will introduce you to the concepts of iterators, functions and classes."
   ]
  },
  {
   "cell_type": "markdown",
   "metadata": {},
   "source": [
    "### Basic structures "
   ]
  },
  {
   "cell_type": "code",
   "execution_count": 1,
   "metadata": {},
   "outputs": [
    {
     "data": {
      "text/plain": [
       "14"
      ]
     },
     "execution_count": 1,
     "metadata": {},
     "output_type": "execute_result"
    }
   ],
   "source": [
    "# You can use the jupyter notebook as \"big calculator\".\n",
    "# Try:\n",
    "\n",
    "2+2*6"
   ]
  },
  {
   "cell_type": "code",
   "execution_count": 2,
   "metadata": {},
   "outputs": [
    {
     "data": {
      "text/plain": [
       "8"
      ]
     },
     "execution_count": 2,
     "metadata": {},
     "output_type": "execute_result"
    }
   ],
   "source": [
    "# Note, that only last line is displayed.\n",
    "\n",
    "2+2\n",
    "4+4"
   ]
  },
  {
   "cell_type": "code",
   "execution_count": 3,
   "metadata": {},
   "outputs": [
    {
     "name": "stdout",
     "output_type": "stream",
     "text": [
      "4\n",
      "8\n"
     ]
    }
   ],
   "source": [
    "# If you want to print more lines, use print() function.\n",
    "\n",
    "print(2+2)\n",
    "print(4+4)"
   ]
  },
  {
   "cell_type": "code",
   "execution_count": 4,
   "metadata": {},
   "outputs": [],
   "source": [
    "# The basic structures in Python are lists, sets, dictionaries and tuplets.\n",
    "# Note the difference between the brackets used.\n",
    "\n",
    "example_of_list = [1, 2, 3, 1, 1]\n",
    "example_of_set = {1, 2, 3, 1, 1}\n",
    "example_of_tuplet = (1, 2, 3, 1, 1)\n",
    "example_of_dictionary = {'a': 1, 'b': 2, 'something else': 4, 6: 'some text'}"
   ]
  },
  {
   "cell_type": "code",
   "execution_count": 5,
   "metadata": {},
   "outputs": [
    {
     "data": {
      "text/plain": [
       "{1, 2, 3}"
      ]
     },
     "execution_count": 5,
     "metadata": {},
     "output_type": "execute_result"
    }
   ],
   "source": [
    "# Note, that set keeps only unique elements. So there is only one \"1\" in the set:\n",
    "\n",
    "example_of_set"
   ]
  },
  {
   "cell_type": "code",
   "execution_count": 6,
   "metadata": {},
   "outputs": [
    {
     "name": "stdout",
     "output_type": "stream",
     "text": [
      "1\n",
      "2\n",
      "4\n",
      "some text\n"
     ]
    }
   ],
   "source": [
    "# Dictionaries are composed by pairs of keys and values.\n",
    "\n",
    "print(example_of_dictionary['a'])\n",
    "print(example_of_dictionary['b'])\n",
    "print(example_of_dictionary['something else'])\n",
    "print(example_of_dictionary[6])"
   ]
  },
  {
   "cell_type": "code",
   "execution_count": 7,
   "metadata": {},
   "outputs": [
    {
     "ename": "KeyError",
     "evalue": "'a key that does not exist'",
     "output_type": "error",
     "traceback": [
      "\u001b[0;31m---------------------------------------------------------------------------\u001b[0m",
      "\u001b[0;31mKeyError\u001b[0m                                  Traceback (most recent call last)",
      "\u001b[0;32m<ipython-input-7-fa79bdabf648>\u001b[0m in \u001b[0;36m<module>\u001b[0;34m()\u001b[0m\n\u001b[1;32m      1\u001b[0m \u001b[0;31m# Note the error if you try to use key that is not in the dictionary.\u001b[0m\u001b[0;34m\u001b[0m\u001b[0;34m\u001b[0m\u001b[0m\n\u001b[1;32m      2\u001b[0m \u001b[0;34m\u001b[0m\u001b[0m\n\u001b[0;32m----> 3\u001b[0;31m \u001b[0mexample_of_dictionary\u001b[0m\u001b[0;34m[\u001b[0m\u001b[0;34m'a key that does not exist'\u001b[0m\u001b[0;34m]\u001b[0m\u001b[0;34m\u001b[0m\u001b[0m\n\u001b[0m",
      "\u001b[0;31mKeyError\u001b[0m: 'a key that does not exist'"
     ]
    }
   ],
   "source": [
    "# Note the error if you try to use key that is not in the dictionary.\n",
    "\n",
    "example_of_dictionary['a key that does not exist']"
   ]
  },
  {
   "cell_type": "code",
   "execution_count": 8,
   "metadata": {},
   "outputs": [
    {
     "name": "stdout",
     "output_type": "stream",
     "text": [
      "(1, 2, 3)\n",
      "(1, 2, 3)\n"
     ]
    }
   ],
   "source": [
    "# Tuplet can be created implicitly, without brackets.\n",
    "\n",
    "variable_1 = 1, 2, 3\n",
    "variable_2 = (1, 2, 3)\n",
    "\n",
    "print(variable_1)\n",
    "print(variable_2)"
   ]
  },
  {
   "cell_type": "code",
   "execution_count": 9,
   "metadata": {},
   "outputs": [
    {
     "data": {
      "text/plain": [
       "((1, 2, 3), (1, 2, 3))"
      ]
     },
     "execution_count": 9,
     "metadata": {},
     "output_type": "execute_result"
    }
   ],
   "source": [
    "# We can also implicitly create a tuplet in the last line, to quickly see the values of our elements.\n",
    "\n",
    "variable_1, variable_2"
   ]
  },
  {
   "cell_type": "code",
   "execution_count": 10,
   "metadata": {},
   "outputs": [],
   "source": [
    "# We can also create empty set, list, dictionary or tuplet.\n",
    "\n",
    "empty_set = set()\n",
    "empty_list = []  # or list()\n",
    "empty_dictionary = {}  # or dict()\n",
    "empty_tuplet = ()  # or tuple()"
   ]
  },
  {
   "cell_type": "code",
   "execution_count": 11,
   "metadata": {},
   "outputs": [
    {
     "data": {
      "text/plain": [
       "tuple"
      ]
     },
     "execution_count": 11,
     "metadata": {},
     "output_type": "execute_result"
    }
   ],
   "source": [
    "# we can check the type of our data structures using the buildin funciton type().\n",
    "\n",
    "type(empty_tuplet)"
   ]
  },
  {
   "cell_type": "markdown",
   "metadata": {},
   "source": [
    "#### Exercises\n",
    "\n",
    "Find in python documentation chapter about data structures:\n",
    "https://docs.python.org/3.6/tutorial/datastructures.html\n",
    "\n",
    "Read about operations on lists and sets. How to add an element? How to remove an element?\n",
    "\n",
    "Then try to complete the following exercises:"
   ]
  },
  {
   "cell_type": "code",
   "execution_count": null,
   "metadata": {},
   "outputs": [],
   "source": [
    "# You have a list [1, 2, 3, 4]. Add numbers 5 and 6 to that list.\n",
    "\n",
    "a = [1, 2, 3, 4]\n",
    "\n",
    "# ... <---- Add here your code!\n",
    "\n",
    "print(a)"
   ]
  },
  {
   "cell_type": "code",
   "execution_count": null,
   "metadata": {},
   "outputs": [],
   "source": [
    "# You have two lists. Concatenate them.\n",
    "\n",
    "a = [1, 2, 3, 4]\n",
    "b = [5, 6, 7, 8]\n",
    "\n",
    "c =  # ... <---- Add here your code!\n",
    "\n",
    "print(c)"
   ]
  },
  {
   "cell_type": "code",
   "execution_count": null,
   "metadata": {},
   "outputs": [],
   "source": [
    "# Remove duplicates from your list.\n",
    "\n",
    "a = [1, 1, 1, 2, 3, 1, 1, 2, 3]\n",
    "\n",
    "a =  # ... <---- Add here your code!\n",
    "\n",
    "print(a)"
   ]
  },
  {
   "cell_type": "code",
   "execution_count": null,
   "metadata": {},
   "outputs": [],
   "source": [
    "# Reverse order of your list.\n",
    "\n",
    "a = [1, 2, 3, 6, 7, 8, 11, 12, 14, 'something']\n",
    "\n",
    "a =  # ... <---- Add here your code!\n",
    "\n",
    "print(a)"
   ]
  },
  {
   "cell_type": "code",
   "execution_count": null,
   "metadata": {},
   "outputs": [],
   "source": [
    "# Remove every second element from your list.\n",
    "\n",
    "a = [1, 2, 3, 6, 7, 8, 11, 12, 14, 'something']\n",
    "\n",
    "a =  # ... <---- Add here your code!\n",
    "\n",
    "print(a)"
   ]
  },
  {
   "cell_type": "markdown",
   "metadata": {},
   "source": [
    "### Functions"
   ]
  },
  {
   "cell_type": "code",
   "execution_count": 12,
   "metadata": {},
   "outputs": [],
   "source": [
    "# Simple function without any arguments.\n",
    "\n",
    "def simple_function1():\n",
    "    \"\"\"Perform simple arytmetic operations. Return the results.\"\"\"\n",
    "    a = 2\n",
    "    b = 3\n",
    "    return a*b + 1"
   ]
  },
  {
   "cell_type": "code",
   "execution_count": 13,
   "metadata": {},
   "outputs": [
    {
     "name": "stdout",
     "output_type": "stream",
     "text": [
      "7\n"
     ]
    }
   ],
   "source": [
    "# To test the function, we can print the result.\n",
    "\n",
    "print(simple_function1())"
   ]
  },
  {
   "cell_type": "code",
   "execution_count": 14,
   "metadata": {},
   "outputs": [],
   "source": [
    "# Simple function with some arguments (two obligatory and two default).\n",
    "\n",
    "def simple_function2(a, b, c=1, d=5):\n",
    "    \"\"\"Perform simple arytmetic operations. Return the results.\"\"\"\n",
    "    return a + b + c + d"
   ]
  },
  {
   "cell_type": "code",
   "execution_count": 15,
   "metadata": {},
   "outputs": [
    {
     "name": "stdout",
     "output_type": "stream",
     "text": [
      "9\n",
      "9\n",
      "7\n"
     ]
    }
   ],
   "source": [
    "# We don't have to specify the default argument.\n",
    "# We can also explicitly say which argument we use (see the last example,\n",
    "# note, that in such case the order doesn't matter).\n",
    "\n",
    "print(simple_function2(1, 2))\n",
    "print(simple_function2(a=1, b=2))\n",
    "print(simple_function2(d=1, c=2, a=1, b=3))"
   ]
  },
  {
   "cell_type": "code",
   "execution_count": 16,
   "metadata": {},
   "outputs": [
    {
     "name": "stdout",
     "output_type": "stream",
     "text": [
      "<function simple_function2 at 0x7f5a50448f28>\n"
     ]
    }
   ],
   "source": [
    "# Let's see what will happen if we print only the name of the function.\n",
    "\n",
    "print(simple_function2)"
   ]
  },
  {
   "cell_type": "code",
   "execution_count": 17,
   "metadata": {},
   "outputs": [
    {
     "name": "stdout",
     "output_type": "stream",
     "text": [
      "9\n"
     ]
    }
   ],
   "source": [
    "# This gives us an idea: the name of the function works as a pointer to that function.\n",
    "# We can create another variable that would hold that pointer.\n",
    "\n",
    "a = simple_function2\n",
    "\n",
    "print(a(1, 2))  # it works the same as `simple_function2(1, 2)`."
   ]
  },
  {
   "cell_type": "code",
   "execution_count": 18,
   "metadata": {},
   "outputs": [],
   "source": [
    "# We can define function within a function.\n",
    "\n",
    "def simple_function3(a, b):\n",
    "    \"\"\"Example, that within a function we can define another functions.\"\"\"\n",
    "    def add(x, y):\n",
    "        \"\"\"Add two numbers.\"\"\"\n",
    "        return x + y\n",
    "    \n",
    "    def subtract(x, y):\n",
    "        \"\"\"Subtract second number from the first one.\"\"\"\n",
    "        return x - y\n",
    "    \n",
    "    def increment_by_one(x):\n",
    "        \"\"\"Increment by one.\"\"\"\n",
    "        return x + 1\n",
    "        \n",
    "    a = increment_by_one(a)\n",
    "    return add(a, b) + subtract(a, b)"
   ]
  },
  {
   "cell_type": "code",
   "execution_count": 19,
   "metadata": {},
   "outputs": [
    {
     "data": {
      "text/plain": [
       "12"
      ]
     },
     "execution_count": 19,
     "metadata": {},
     "output_type": "execute_result"
    }
   ],
   "source": [
    "# Test it!\n",
    "\n",
    "simple_function3(5, 6)"
   ]
  },
  {
   "cell_type": "code",
   "execution_count": 20,
   "metadata": {},
   "outputs": [],
   "source": [
    "# If you need to return more than one element, return a tuple instead.\n",
    "\n",
    "def divide(x):\n",
    "    \"\"\"Return results of x divided by 2, 3 and 4.\"\"\"\n",
    "    return x/2, x/3, x/4"
   ]
  },
  {
   "cell_type": "code",
   "execution_count": 21,
   "metadata": {},
   "outputs": [
    {
     "name": "stdout",
     "output_type": "stream",
     "text": [
      "(3.0, 2.0, 1.5)\n"
     ]
    }
   ],
   "source": [
    "# Test it!\n",
    "\n",
    "r = divide(6)\n",
    "print(r)"
   ]
  },
  {
   "cell_type": "code",
   "execution_count": 22,
   "metadata": {},
   "outputs": [
    {
     "name": "stdout",
     "output_type": "stream",
     "text": [
      "3.0 2.0 1.5\n"
     ]
    }
   ],
   "source": [
    "# We can also easily save the results to seperate variables.\n",
    "\n",
    "a, b, c = divide(6)\n",
    "print(a, b, c)"
   ]
  },
  {
   "cell_type": "code",
   "execution_count": 23,
   "metadata": {},
   "outputs": [
    {
     "name": "stdout",
     "output_type": "stream",
     "text": [
      "Before fun1: [1, 2, 3, 4]\n",
      "Inside fun1. my_list = [0, 2, 3, 4]\n",
      "After fun1: [0, 2, 3, 4]\n",
      "\n",
      "Before fun2: 5\n",
      "Inside fun2. x = 6\n",
      "After fun2: 5\n"
     ]
    }
   ],
   "source": [
    "# Some objects in Python are mutuable (list, dict, set, byte array),\n",
    "# and another are immutuable (int, float, complex, string, tuple, frozen set, bytes).\n",
    "# To show the example, check the difference in the behaviour of the following functions:\n",
    "# Nothe the different style of passing arguments to print: we used `format` method. \n",
    "\n",
    "def fun1(my_list):\n",
    "    \"\"\"Zero the first element of the list.\"\"\"\n",
    "    my_list[0] = 0\n",
    "    print(\"Inside fun1. my_list = {0}\".format(my_list))  \n",
    "    \n",
    "    \n",
    "def fun2(x):\n",
    "    \"\"\"Increment the numeric variable x.\"\"\"\n",
    "    x += 1\n",
    "    print(\"Inside fun2. x = {0}\".format(x))\n",
    "    \n",
    "\n",
    "# Compare this...\n",
    "a = [1, 2, 3, 4]\n",
    "\n",
    "print('Before fun1:', a)\n",
    "fun1(a)\n",
    "print('After fun1:', a)\n",
    "\n",
    "\n",
    "# With this...\n",
    "b = 5\n",
    "\n",
    "print('\\nBefore fun2:', b)\n",
    "fun2(b)\n",
    "print('After fun2:', b)"
   ]
  },
  {
   "cell_type": "code",
   "execution_count": 24,
   "metadata": {},
   "outputs": [],
   "source": [
    "# fun1 was able to modify the list that was posted as the function argument.\n",
    "# fun2 was not able to modify their numeric argument.\n",
    "# The difference is, that in case of the list, we passed in reality only\n",
    "# a pointer to the list, not the whole list itself. In case of the numeric variable,\n",
    "# the value of the variable was inexplicitly coppied to the function.\n",
    "# So when we trid to increment the number, we incremented only the copy of that number.\n",
    "# The original number was not modified.\n",
    "\n",
    "# The reason why it happened was that list in Python is mutuable (can be changed after creation),\n",
    "# while intigers and floats are immutable (every time we do some operations on them,\n",
    "# we create in fact, a new objects).\n",
    "\n",
    "# Read more about it in https://medium.com/@meghamohan/mutable-and-immutable-side-of-python-c2145cf72747"
   ]
  },
  {
   "cell_type": "markdown",
   "metadata": {},
   "source": [
    "#### Exercises"
   ]
  },
  {
   "cell_type": "code",
   "execution_count": null,
   "metadata": {},
   "outputs": [],
   "source": [
    "# Write function, that would divide two numbers, and return the quotient and the remainder\n",
    "# For example divide_with_reminder(11, 4) should return tuplet (2, 3), since 11 = 4*2 + 3."
   ]
  },
  {
   "cell_type": "code",
   "execution_count": null,
   "metadata": {},
   "outputs": [],
   "source": [
    "def divide_with_reminder(x, y):\n",
    "    \"\"\"Divide with reminder.\"\"\"\n",
    "    q =  # ... <---- Add here your code!\n",
    "    r =  # ... <---- Add here your code!\n",
    "    return q, r\n",
    "\n",
    "\n",
    "a = 11\n",
    "b = 4\n",
    "\n",
    "divide_with_reminder(a, b)"
   ]
  },
  {
   "cell_type": "markdown",
   "metadata": {},
   "source": [
    "### Control Flow Tools\n",
    "\n",
    "Read more in https://docs.python.org/3/tutorial/controlflow.html"
   ]
  },
  {
   "cell_type": "code",
   "execution_count": 25,
   "metadata": {},
   "outputs": [],
   "source": [
    "# if statement.\n",
    "\n",
    "def function1(x):\n",
    "    \"\"\"Print different things depending on the value of x.\"\"\"\n",
    "    if x > 4:\n",
    "        print(\"x is bigger than 4.\")\n",
    "    elif x < 4:\n",
    "        print(\"x is smaller than 4.\")\n",
    "    else:\n",
    "        print(\"x is neigher bigger or smaller than 4.\")"
   ]
  },
  {
   "cell_type": "code",
   "execution_count": 26,
   "metadata": {},
   "outputs": [
    {
     "name": "stdout",
     "output_type": "stream",
     "text": [
      "x is smaller than 4.\n",
      "x is neigher bigger or smaller than 4.\n",
      "x is bigger than 4.\n"
     ]
    }
   ],
   "source": [
    "# Test it!\n",
    "\n",
    "function1(3)\n",
    "function1(4)\n",
    "function1(5)"
   ]
  },
  {
   "cell_type": "code",
   "execution_count": 27,
   "metadata": {},
   "outputs": [],
   "source": [
    "# for loop.\n",
    "\n",
    "def function2(n):\n",
    "    \"\"\"Demonstrate the for loop.\"\"\"\n",
    "    for i in range(n):\n",
    "        print(i)"
   ]
  },
  {
   "cell_type": "code",
   "execution_count": 28,
   "metadata": {},
   "outputs": [
    {
     "name": "stdout",
     "output_type": "stream",
     "text": [
      "0\n",
      "1\n",
      "2\n",
      "3\n",
      "4\n"
     ]
    }
   ],
   "source": [
    "# Test it!\n",
    "\n",
    "function2(5)"
   ]
  },
  {
   "cell_type": "code",
   "execution_count": 29,
   "metadata": {},
   "outputs": [],
   "source": [
    "# while loop.\n",
    "\n",
    "def function3(x):\n",
    "    \"\"\"Demonstrate the while loop.\"\"\"\n",
    "    while x > 1:\n",
    "        print(x)\n",
    "        x /= 2"
   ]
  },
  {
   "cell_type": "code",
   "execution_count": 30,
   "metadata": {},
   "outputs": [
    {
     "name": "stdout",
     "output_type": "stream",
     "text": [
      "19\n",
      "9.5\n",
      "4.75\n",
      "2.375\n",
      "1.1875\n"
     ]
    }
   ],
   "source": [
    "# test it!\n",
    "\n",
    "function3(x=19)"
   ]
  },
  {
   "cell_type": "markdown",
   "metadata": {},
   "source": [
    "#### Exercises"
   ]
  },
  {
   "cell_type": "code",
   "execution_count": null,
   "metadata": {},
   "outputs": [],
   "source": [
    "# Create function that will change each negative element of a given list into positive one.\n",
    "# For example [1, 2, -1, -2] -> [1, 2, 1, 2].\n",
    "# In that version, we want the function to not return anything, only to modify the original list.\n",
    "\n",
    "def elementwise_abs(_list):\n",
    "    \"\"\"Change each negative element of a given list into positive.\"\"\"\n",
    "    pass  # ... <---- Remove `pass` and add here your code!\n",
    "\n",
    "\n",
    "a = [1, 2, -1, -2, 6, -6]\n",
    "\n",
    "elementwise_abs(a)\n",
    "\n",
    "print(a)"
   ]
  },
  {
   "cell_type": "code",
   "execution_count": null,
   "metadata": {},
   "outputs": [],
   "source": [
    "# Create function that will RETURN a list\n",
    "# where each negative element of a given list was changed into positive number.\n",
    "# In that version, we want the function to NOT modify the original list. Instead,\n",
    "# a new list (with only positive numbers) should be returnd.\n",
    "\n",
    "def elementwise_abs(_list):\n",
    "    \"\"\"Change each negative element of a given list into positive.\"\"\"\n",
    "    pass  # ... <---- Remove `pass` and add here your code!\n",
    "\n",
    "\n",
    "a = [1, 2, -1, -2, 6, -6]\n",
    "\n",
    "b = elementwise_abs(a)\n",
    "\n",
    "print(a)\n",
    "print(b)"
   ]
  },
  {
   "cell_type": "markdown",
   "metadata": {},
   "source": [
    "### Classes"
   ]
  },
  {
   "cell_type": "code",
   "execution_count": 31,
   "metadata": {},
   "outputs": [],
   "source": [
    "# See the example of a simple class.\n",
    "\n",
    "\n",
    "class Point:\n",
    "    \"\"\"Class that represent a point in a two-dimensional euclidean space.\"\"\"\n",
    "    \n",
    "    def __init__(self, x, y):\n",
    "        \"\"\"Save the point coordinates.\"\"\"\n",
    "        self.x = x\n",
    "        self.y = y\n",
    "        \n",
    "    def ox_symmetry_transformation(self):\n",
    "        \"\"\"Reflect the point over the XO ax.\"\"\"\n",
    "        self.x = -self.x\n",
    "        \n",
    "    def oy_symmetry_transformation(self):\n",
    "        \"\"\"Reflect the point over the YO ax.\"\"\"\n",
    "        self.y = -self.y\n",
    "        \n",
    "    def translate_by(self, x, y):\n",
    "        \"\"\"Translate by a vector.\"\"\"\n",
    "        self.x += x\n",
    "        self.y += y\n",
    "        \n",
    "    def print_coordinates(self):\n",
    "        \"\"\"Print the coordinates of the point.\"\"\"\n",
    "        print('Coordinates: ({0:6.3f}, {1:6.3f})'.format(self.x, self.y))"
   ]
  },
  {
   "cell_type": "code",
   "execution_count": 32,
   "metadata": {},
   "outputs": [
    {
     "name": "stdout",
     "output_type": "stream",
     "text": [
      "Coordinates: ( 3.100,  2.200)\n",
      "Coordinates: (-3.100,  2.200)\n",
      "Coordinates: (-3.100,  2.200)\n",
      "Coordinates: ( 1.900,  7.200)\n"
     ]
    }
   ],
   "source": [
    "# Check how the class works.\n",
    "\n",
    "a = Point(3.1, 2.2)\n",
    "a.print_coordinates()\n",
    "\n",
    "a.ox_symmetry_transformation()\n",
    "a.print_coordinates()\n",
    "\n",
    "a.oy_symmetry_transformation\n",
    "a.print_coordinates()\n",
    "\n",
    "a.translate_by(x=5, y=5)\n",
    "a.print_coordinates()"
   ]
  },
  {
   "cell_type": "code",
   "execution_count": 33,
   "metadata": {},
   "outputs": [
    {
     "name": "stdout",
     "output_type": "stream",
     "text": [
      "Coordinates: ( 1.000,  1.000)\n",
      "Coordinates: ( 2.000, -3.000)\n"
     ]
    }
   ],
   "source": [
    "# We can also access directly the variables from the class.\n",
    "\n",
    "a = Point(1, 1)\n",
    "a.print_coordinates()\n",
    "\n",
    "a.x = 2\n",
    "a.y = -3\n",
    "\n",
    "a.print_coordinates()"
   ]
  },
  {
   "cell_type": "code",
   "execution_count": 34,
   "metadata": {},
   "outputs": [
    {
     "name": "stdout",
     "output_type": "stream",
     "text": [
      "Coordinates: ( 1.000,  1.000)\n",
      "Coordinates: ( 3.000,  3.000)\n",
      "Coordinates: ( 3.000,  3.000)\n"
     ]
    }
   ],
   "source": [
    "# Note, that `b` works only as pointer to the class.\n",
    "# If you make a copy of that pointer `c = b`, then\n",
    "# both b and c point to the same object in the memory.\n",
    "\n",
    "b = Point(1, 1)\n",
    "b.print_coordinates()\n",
    "\n",
    "c = b\n",
    "b.translate_by(x=2, y=2)\n",
    "\n",
    "b.print_coordinates()\n",
    "c.print_coordinates()"
   ]
  },
  {
   "cell_type": "code",
   "execution_count": 35,
   "metadata": {},
   "outputs": [
    {
     "name": "stdout",
     "output_type": "stream",
     "text": [
      "Coordinates: ( 1.000,  1.000)\n",
      "Coordinates: ( 3.000,  3.000)\n",
      "Coordinates: ( 1.000,  1.000)\n"
     ]
    }
   ],
   "source": [
    "# To make copy of a class, you have use copy function from copy library.\n",
    "# See the example below and compare it with the example above.\n",
    "\n",
    "import copy\n",
    "\n",
    "b = Point(1, 1)\n",
    "b.print_coordinates()\n",
    "\n",
    "c = copy.copy(b)\n",
    "b.translate_by(x=2, y=2)\n",
    "\n",
    "b.print_coordinates()\n",
    "c.print_coordinates()"
   ]
  },
  {
   "cell_type": "markdown",
   "metadata": {},
   "source": [
    "#### Exercises"
   ]
  },
  {
   "cell_type": "code",
   "execution_count": null,
   "metadata": {},
   "outputs": [],
   "source": [
    "# Modify the NewPoint class below. Add method, that would calculate a distance of point\n",
    "# from the beginning of the coordinate system.\n",
    "\n",
    "class NewPoint:\n",
    "    \"\"\"Class that represent a point in a two-dimensional euclidean space.\"\"\"\n",
    "    \n",
    "    def __init__(self, x, y):\n",
    "        \"\"\"Save the point coordinates.\"\"\"\n",
    "        self.x = x\n",
    "        self.y = y\n",
    "        \n",
    "    def ox_symmetry_transformation(self):\n",
    "        \"\"\"Reflect the point over the XO ax.\"\"\"\n",
    "        self.x = -self.x\n",
    "        \n",
    "    def oy_symmetry_transformation(self):\n",
    "        \"\"\"Reflect the point over the YO ax.\"\"\"\n",
    "        self.y = -self.y\n",
    "        \n",
    "    def translate_by(self, x, y):\n",
    "        \"\"\"Translate by a vector.\"\"\"\n",
    "        self.x += x\n",
    "        self.y += y\n",
    "        \n",
    "    def distance(self):\n",
    "        \"\"\"Calculate distance from the beginning of the coordinance system\n",
    "        \n",
    "        Use the euclidian metric.\n",
    "        \"\"\"\n",
    "        r =  # ... <---- Add here your code!\n",
    "        return r\n",
    "        \n",
    "    def print_coordinates(self):\n",
    "        \"\"\"Print the coordinates of the point.\"\"\"\n",
    "        print('Coordinates: ({0:6.3f}, {1:6.3f})'.format(self.x, self.y))\n",
    "        \n",
    "        \n",
    "# Test it\n",
    "p = NewPoint(3, 3)\n",
    "p = print_coordinates()\n",
    "p.distance()"
   ]
  },
  {
   "cell_type": "code",
   "execution_count": null,
   "metadata": {},
   "outputs": [],
   "source": [
    "# If we want to modify one method, we can create a subclass (a 'child class').\n",
    "# To use the parent's initialization function, we have to call super().__init__(), see below.\n",
    "\n",
    "class NewestPoint(NewPoint):\n",
    "    \"\"\"Class that represent a point in a two-dimensional euclidean space.\"\"\"\n",
    "    \n",
    "    def __init__(self, x, y):\n",
    "        \"\"\"Save the point coordinates.\"\"\"\n",
    "        super().__init__(x, y)\n",
    "        \n",
    "    def distance(self):\n",
    "        \"\"\"Calculate distance from the beginning of the coordinance system\n",
    "        \n",
    "        Use the taxicab metric, see: https://en.wikipedia.org/wiki/Taxicab_geometry\n",
    "        \"\"\"\n",
    "        r =  # ... <---- Add here your code!\n",
    "        return r\n",
    "        \n",
    "        \n",
    "# Test it\n",
    "w = NewestPoint(3, 3)\n",
    "w.print_coordinates()  # it still works! We use here the method from NewPoint not from the NewestPoint!\n",
    "\n",
    "w.distance()"
   ]
  }
 ],
 "metadata": {
  "kernelspec": {
   "display_name": "Python 3",
   "language": "python",
   "name": "python3"
  },
  "language_info": {
   "codemirror_mode": {
    "name": "ipython",
    "version": 3
   },
   "file_extension": ".py",
   "mimetype": "text/x-python",
   "name": "python",
   "nbconvert_exporter": "python",
   "pygments_lexer": "ipython3",
   "version": "3.6.1"
  }
 },
 "nbformat": 4,
 "nbformat_minor": 2
}
